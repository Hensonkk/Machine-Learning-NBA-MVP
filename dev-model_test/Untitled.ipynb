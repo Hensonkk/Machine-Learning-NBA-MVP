{
 "cells": [
  {
   "cell_type": "code",
   "execution_count": 1,
   "id": "e0a0f57f",
   "metadata": {},
   "outputs": [],
   "source": [
    "import requests\n",
    "from bs4 import BeautifulSoup"
   ]
  },
  {
   "cell_type": "code",
   "execution_count": 2,
   "id": "409b3695",
   "metadata": {},
   "outputs": [],
   "source": [
    "#Create list\n",
    "data = []\n",
    "\n",
    "# Base URL\n",
    "base_url = 'https://www.sportsoddshistory.com/nba-awd/?y={}&sa=nba&a=nbamvp&o=r'\n",
    "\n",
    "# Loop through the years from 2006 to 2022\n",
    "for year in range(2006, 2023):\n",
    "    # Format the URL with the current season\n",
    "    season = f'{year}-{year+1}'\n",
    "    url = base_url.format(season)\n",
    "\n",
    "    # Send a GET request\n",
    "    response = requests.get(url)\n",
    "\n",
    "    # Parse\n",
    "    soup = BeautifulSoup(response.text, 'html.parser')\n",
    "\n",
    "    # Find the table body\n",
    "    table_body = soup.find('tbody')\n",
    "\n",
    "    # Extract from first two columns\n",
    "    for row in table_body.find_all('tr'):\n",
    "        cols = row.find_all('td')\n",
    "        player_name = cols[0].text.strip()\n",
    "        odds = cols[1].text.strip()\n",
    "        data.append([season, player_name, odds])\n"
   ]
  },
  {
   "cell_type": "code",
   "execution_count": 4,
   "id": "1a4a5d01",
   "metadata": {
    "scrolled": true
   },
   "outputs": [
    {
     "ename": "AttributeError",
     "evalue": "'list' object has no attribute 'columns'",
     "output_type": "error",
     "traceback": [
      "\u001b[1;31m---------------------------------------------------------------------------\u001b[0m",
      "\u001b[1;31mAttributeError\u001b[0m                            Traceback (most recent call last)",
      "Cell \u001b[1;32mIn[4], line 1\u001b[0m\n\u001b[1;32m----> 1\u001b[0m data\u001b[38;5;241m.\u001b[39mcolumns\n",
      "\u001b[1;31mAttributeError\u001b[0m: 'list' object has no attribute 'columns'"
     ]
    }
   ],
   "source": [
    "data.columns"
   ]
  },
  {
   "cell_type": "code",
   "execution_count": null,
   "id": "8660aa0c",
   "metadata": {},
   "outputs": [],
   "source": []
  },
  {
   "cell_type": "code",
   "execution_count": null,
   "id": "704339a0",
   "metadata": {},
   "outputs": [],
   "source": []
  }
 ],
 "metadata": {
  "kernelspec": {
   "display_name": "Python 3 (ipykernel)",
   "language": "python",
   "name": "python3"
  },
  "language_info": {
   "codemirror_mode": {
    "name": "ipython",
    "version": 3
   },
   "file_extension": ".py",
   "mimetype": "text/x-python",
   "name": "python",
   "nbconvert_exporter": "python",
   "pygments_lexer": "ipython3",
   "version": "3.11.3"
  }
 },
 "nbformat": 4,
 "nbformat_minor": 5
}
